{
 "cells": [
  {
   "cell_type": "code",
   "execution_count": 8,
   "metadata": {},
   "outputs": [],
   "source": [
    "from IPython.display import clear_output\n",
    "def display(d):\n",
    "    clear_output()  # Remember, this only works in jupyter!\n",
    "    print('Here is the current pattern: ')\n",
    "    print(f' {d[7]} | {d[8]} | {d[9]} ')\n",
    "    print('-----------')\n",
    "    print(f' {d[4]} | {d[5]} | {d[6]} ')\n",
    "    print('-----------')\n",
    "    print(f' {d[1]} | {d[2]} | {d[3]} ')"
   ]
  },
  {
   "cell_type": "code",
   "execution_count": 9,
   "metadata": {},
   "outputs": [],
   "source": [
    "def select_marker():\n",
    "    marker=''\n",
    "    while marker!='X' and marker!='O':\n",
    "        marker=input('Player 1: choose marker X or O : ').upper()\n",
    "    p1marker=marker\n",
    "    if marker=='X':\n",
    "        p2marker='O'\n",
    "    else:\n",
    "        p2marker='X'\n",
    "    return(p1marker,p2marker)"
   ]
  },
  {
   "cell_type": "code",
   "execution_count": 10,
   "metadata": {},
   "outputs": [],
   "source": [
    "def enter_input(d,ap):\n",
    "    p=0\n",
    "    while p not in ap:\n",
    "        p=int(input(f'please enter position from {ap}: '))\n",
    "        if p not in ap:\n",
    "            print('please enter valid number')\n",
    "    else:\n",
    "        return p"
   ]
  },
  {
   "cell_type": "code",
   "execution_count": 11,
   "metadata": {},
   "outputs": [],
   "source": [
    "def game_onoroff():\n",
    "    gm=''\n",
    "    while gm!='Y' and gm!='N':\n",
    "        gm=input('Do you want to start a new game? Press Y or N : ').upper()\n",
    "        if gm!='Y' and gm!='N':\n",
    "            print('invalid input')\n",
    "        else:\n",
    "            return gm=='Y'"
   ]
  },
  {
   "cell_type": "code",
   "execution_count": 12,
   "metadata": {},
   "outputs": [],
   "source": [
    "def result_check(d,m):\n",
    "    return (d[1]==m and d[2]==m and d[3]==m) or (d[4]==m and d[5]==m and d[6]==m) or (d[7]==m and d[8]==m and d[9]==m) or (d[1]==m and d[4]==m and d[7]==m) or (d[2]==m and d[5]==m and d[8]==m) or (d[3]==m and d[6]==m and d[9]==m) or (d[7]==m and d[5]==m and d[3]==m) or (d[1]==m and d[5]==m and d[9]==m)"
   ]
  },
  {
   "cell_type": "code",
   "execution_count": 13,
   "metadata": {},
   "outputs": [],
   "source": [
    "def start_game():\n",
    "    d={1:' ',2:' ',3:' ',4:' ',5:' ',6:' ',7:' ',8:' ',9:' ',}\n",
    "    availablep=list(d.keys())\n",
    "    i=1\n",
    "    player1=''\n",
    "    player2=''\n",
    "    gameon=game_onoroff()\n",
    "    if gameon:\n",
    "        display(d)\n",
    "        print ('Player 1 will start the game')\n",
    "        player1,player2=select_marker()\n",
    "    return d,availablep,gameon,i,player1,player2\n"
   ]
  },
  {
   "cell_type": "code",
   "execution_count": 14,
   "metadata": {},
   "outputs": [
    {
     "name": "stdout",
     "output_type": "stream",
     "text": [
      "Here is the current pattern: \n",
      " O | X | O \n",
      "-----------\n",
      " O | X | O \n",
      "-----------\n",
      " X | O | X \n",
      "game is a tie!\n",
      "Do you want to start a new game? Press Y or N : n\n",
      "game is over!\n"
     ]
    }
   ],
   "source": [
    "\n",
    "d,availablep,gameon,i,player1,player2=start_game()\n",
    "while gameon:\n",
    "    if len(availablep)>0:\n",
    "        position=enter_input(d,availablep)\n",
    "        if i==1:\n",
    "            d[position]=player1\n",
    "            display(d)\n",
    "            availablep.remove(position)\n",
    "            if result_check(d,player1)==True:\n",
    "                print (f'player {i} has won the game!')\n",
    "                d,availablep,gameon,i,player1,player2=start_game()\n",
    "                continue\n",
    "            i=2\n",
    "        else:\n",
    "            d[position]=player2\n",
    "            display(d)\n",
    "            availablep.remove(position)\n",
    "            if result_check(d,player2)==True:\n",
    "                print (f'player {i} has won the game!')\n",
    "                d,availablep,gameon,i,player1,player2=start_game()\n",
    "                continue\n",
    "            i=1\n",
    "    else:\n",
    "        print('game is a tie!')\n",
    "        d,availablep,gameon,i,player1,player2=start_game()\n",
    "else:\n",
    "    print('game is over!')"
   ]
  },
  {
   "cell_type": "code",
   "execution_count": null,
   "metadata": {},
   "outputs": [],
   "source": [
    "\n"
   ]
  }
 ],
 "metadata": {
  "kernelspec": {
   "display_name": "Python 3",
   "language": "python",
   "name": "python3"
  },
  "language_info": {
   "codemirror_mode": {
    "name": "ipython",
    "version": 3
   },
   "file_extension": ".py",
   "mimetype": "text/x-python",
   "name": "python",
   "nbconvert_exporter": "python",
   "pygments_lexer": "ipython3",
   "version": "3.7.6"
  }
 },
 "nbformat": 4,
 "nbformat_minor": 4
}
