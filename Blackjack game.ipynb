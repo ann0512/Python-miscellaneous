{
 "cells": [
  {
   "cell_type": "code",
   "execution_count": 1,
   "id": "f6e85380",
   "metadata": {},
   "outputs": [],
   "source": [
    "#computer dealer and human player"
   ]
  },
  {
   "cell_type": "code",
   "execution_count": 2,
   "id": "88259e02",
   "metadata": {},
   "outputs": [],
   "source": [
    "import random\n",
    "suits=('diamonds','spades','hearts','clubs')\n",
    "ranks=('two','three','four','five','six','seven','eight','nine','ten','Jack','Queen','King','Ace')\n",
    "values={'two':2,'three':3,'four':4,'five':5,'six':6,'seven':7,'eight':8,'nine':9,'ten':10,'Jack':10,'Queen':10,\n",
    "        'King':10,'Ace':11}\n",
    "playing=True"
   ]
  },
  {
   "cell_type": "code",
   "execution_count": 3,
   "id": "c6430e10",
   "metadata": {},
   "outputs": [],
   "source": [
    "class Card:\n",
    "    def __init__(self,suit,rank):\n",
    "        self.suit=suit\n",
    "        self.rank=rank\n",
    "        self.value=values[rank]\n",
    "        \n",
    "    def __str__(self):\n",
    "        return self.rank+' of '+self.suit"
   ]
  },
  {
   "cell_type": "code",
   "execution_count": 4,
   "id": "1e929dde",
   "metadata": {},
   "outputs": [],
   "source": [
    "class Deck:\n",
    "    def __init__(self):\n",
    "        self.remainingdeck=[]\n",
    "        for i in suits:\n",
    "            for j in ranks:\n",
    "                self.remainingdeck.append(Card(i,j))\n",
    "        #each element in list self.remainingdeck is an instance/object of Card class\n",
    "               \n",
    "    def __str__(self):\n",
    "        self.deckstr=''\n",
    "        for i in self.remainingdeck:\n",
    "            self.deckstr+=f' {i.__str__()}\\n' # add each Card object's print string\n",
    "        return f'Cards remaining in deck are: \\n{self.deckstr}'\n",
    "    \n",
    "    def shuffle(self):\n",
    "        random.shuffle(self.remainingdeck)\n",
    "        \n",
    "    def deal(self):\n",
    "        return self.remainingdeck.pop()"
   ]
  },
  {
   "cell_type": "code",
   "execution_count": 5,
   "id": "3f914855",
   "metadata": {},
   "outputs": [],
   "source": [
    "class Hand:\n",
    "    def __init__(self):\n",
    "        self.valueinhand=0\n",
    "        self.cardsinhand=[]\n",
    "        self.ace=0\n",
    "        \n",
    "    def addcard(self,card):\n",
    "        self.cardsinhand.append(card) #this card is an object of Card class which will be passed during function call\n",
    "        self.valueinhand+=card.value\n",
    "        if card.rank=='Ace':\n",
    "            self.ace+=1\n",
    "            \n",
    "    def adjustforace(self):\n",
    "        while self.valueinhand>21 and self.ace>0:\n",
    "            self.valueinhand-=10\n",
    "            self.ace-=1\n",
    "  "
   ]
  },
  {
   "cell_type": "code",
   "execution_count": 6,
   "id": "ec10246b",
   "metadata": {},
   "outputs": [],
   "source": [
    "class Chips:\n",
    "    def __init__(self):\n",
    "        self.total=100\n",
    "        self.bet=0\n",
    "        \n",
    "    def win_bet(self):\n",
    "        self.total+=self.bet\n",
    "        \n",
    "    def lose_bet(self):\n",
    "        self.total-=self.bet"
   ]
  },
  {
   "cell_type": "code",
   "execution_count": 7,
   "id": "3f385d32",
   "metadata": {},
   "outputs": [],
   "source": [
    "def take_bet(chp):\n",
    "    while True:\n",
    "        try:\n",
    "            chp.bet=int(input(\"How much do you want to bet?\"))              \n",
    "        except ValueError:\n",
    "            print(\"Please enter a number\")\n",
    "        else:\n",
    "            if (chp.bet>chp.total):\n",
    "                print(f\"amount greater than available. Available amount is {chp.total}\")\n",
    "            else:\n",
    "                break"
   ]
  },
  {
   "cell_type": "code",
   "execution_count": 8,
   "id": "86ced72c",
   "metadata": {},
   "outputs": [],
   "source": [
    "def hit(deck,hand):\n",
    "    hand.addcard(deck.deal())\n",
    "    hand.adjustforace()"
   ]
  },
  {
   "cell_type": "code",
   "execution_count": 9,
   "id": "7fdbee1c",
   "metadata": {},
   "outputs": [],
   "source": [
    "def hit_or_stand(deck,hand):\n",
    "    global playing\n",
    "    while True:\n",
    "        x=input(\"\\nEnter 'h' to hit and 's' to stand: \")\n",
    "        if x[0].lower()=='h':\n",
    "            hit(deck,hand)\n",
    "        elif x[0].lower()=='s':\n",
    "            print(\"Player stands. Dealer is playing\")\n",
    "            playing=False\n",
    "        else:\n",
    "            print(\"Invalid input. Please enter again\")\n",
    "            continue\n",
    "        break\n",
    "        "
   ]
  },
  {
   "cell_type": "code",
   "execution_count": 10,
   "id": "ea1b419d",
   "metadata": {},
   "outputs": [],
   "source": [
    "def player_busts(chips):\n",
    "    print(\"\\nPlayer busts!\")\n",
    "    chips.lose_bet()\n",
    "    \n",
    "def player_wins(chips):\n",
    "    print(\"\\nPlayer wins!\")\n",
    "    chips.win_bet()\n",
    "    \n",
    "def dealer_wins(chips):\n",
    "    print(\"\\nDealer wins!\")\n",
    "    chips.lose_bet()\n",
    "    \n",
    "def dealer_busts(chips):\n",
    "    print(\"\\nDealer busts!\")\n",
    "    chips.win_bet()\n",
    "    \n",
    "def push():\n",
    "    print(\"\\nDealer and Player tie! It's a push.\")"
   ]
  },
  {
   "cell_type": "code",
   "execution_count": 11,
   "id": "14ecc624",
   "metadata": {},
   "outputs": [],
   "source": [
    "#playerhand and dealerhand are objects of Hand class.\n",
    "#cardsinhand is an attribute of Hand class.cardsinhand is a list and the elements in it are objects of card class\n",
    "def show_some(playerhand,dealerhand):\n",
    "    print(\"\\nPLAYER'S HAND: \", *playerhand.cardsinhand , sep='\\n ')\n",
    "    print(\"DEALER'S HAND: \")\n",
    "    print(\" <card hidden>\")\n",
    "    print(\" \", *dealerhand.cardsinhand[1:])\n",
    "    \n",
    "def show_all(playerhand,dealerhand):\n",
    "    print(\"\\nPLAYER'S HAND: \", *playerhand.cardsinhand , sep='\\n ')\n",
    "    print(\"DEALER'S HAND: \", *dealerhand.cardsinhand , sep='\\n ')"
   ]
  },
  {
   "cell_type": "code",
   "execution_count": null,
   "id": "422e8204",
   "metadata": {},
   "outputs": [
    {
     "name": "stdout",
     "output_type": "stream",
     "text": [
      "\n",
      "Welcome to BlackJack! Get as close to 21 as you can without going over!\n",
      "    Dealer hits until they reaches 17. Aces count as 1 or 11.\n",
      "How much do you want to bet?40\n",
      "\n",
      "PLAYER'S HAND: \n",
      " nine of clubs\n",
      " Jack of hearts\n",
      "DEALER'S HAND: \n",
      " <card hidden>\n",
      "  King of hearts\n",
      "\n",
      "Enter 'h' to hit and 's' to stand: s\n",
      "Player stands. Dealer is playing\n",
      "\n",
      "PLAYER'S HAND: \n",
      " nine of clubs\n",
      " Jack of hearts\n",
      "DEALER'S HAND: \n",
      " Jack of spades\n",
      " King of hearts\n",
      "\n",
      "Dealer wins!\n",
      "Amount with player : 60\n"
     ]
    }
   ],
   "source": [
    "chp=Chips()\n",
    "while True:\n",
    "    print(\"\\nWelcome to BlackJack! Get as close to 21 as you can without going over!\\n\\\n",
    "    Dealer hits until they reaches 17. Aces count as 1 or 11.\")\n",
    "    \n",
    "    deck=Deck()\n",
    "    deck.shuffle()\n",
    "    \n",
    "    playerhand=Hand()\n",
    "    dealerhand=Hand()\n",
    "    \n",
    "    playerhand.addcard(deck.deal())\n",
    "    playerhand.addcard(deck.deal())\n",
    "    dealerhand.addcard(deck.deal())\n",
    "    dealerhand.addcard(deck.deal())\n",
    "    \n",
    "    \n",
    "    take_bet(chp)\n",
    "    \n",
    "    \n",
    "    while playing:\n",
    "        if playerhand.valueinhand>21:\n",
    "            show_all(playerhand,dealerhand)\n",
    "            player_busts(chp)\n",
    "            break\n",
    "            \n",
    "        else:\n",
    "            show_some(playerhand,dealerhand)\n",
    "            hit_or_stand(deck,playerhand)\n",
    "            \n",
    "            \n",
    "    if playerhand.valueinhand<=21:\n",
    "        \n",
    "        while dealerhand.valueinhand < 17:\n",
    "            show_all(playerhand,dealerhand)\n",
    "            hit(deck,dealerhand)\n",
    "            \n",
    "        show_all(playerhand,dealerhand)\n",
    "        if dealerhand.valueinhand > 21:\n",
    "            dealer_busts(chp)\n",
    "\n",
    "        elif dealerhand.valueinhand > playerhand.valueinhand:\n",
    "            dealer_wins(chp)\n",
    "\n",
    "        elif dealerhand.valueinhand < playerhand.valueinhand:\n",
    "            player_wins(chp)\n",
    "\n",
    "        else:\n",
    "            push()\n",
    "            \n",
    "    print(f\"Amount with player : {chp.total}\")\n",
    "            \n",
    "    x=input(\"Do you want to play again? 'y' or 'n' \")\n",
    "    if x[0].lower()=='n':\n",
    "        print(\"Thanks for playing!\")\n",
    "        break\n",
    "    else:\n",
    "        playing=True\n",
    "        continue\n",
    "    "
   ]
  },
  {
   "cell_type": "code",
   "execution_count": null,
   "id": "12e9ca97",
   "metadata": {},
   "outputs": [],
   "source": []
  },
  {
   "cell_type": "code",
   "execution_count": null,
   "id": "5fc4c0be",
   "metadata": {},
   "outputs": [],
   "source": []
  }
 ],
 "metadata": {
  "kernelspec": {
   "display_name": "Python 3",
   "language": "python",
   "name": "python3"
  },
  "language_info": {
   "codemirror_mode": {
    "name": "ipython",
    "version": 3
   },
   "file_extension": ".py",
   "mimetype": "text/x-python",
   "name": "python",
   "nbconvert_exporter": "python",
   "pygments_lexer": "ipython3",
   "version": "3.8.8"
  }
 },
 "nbformat": 4,
 "nbformat_minor": 5
}
