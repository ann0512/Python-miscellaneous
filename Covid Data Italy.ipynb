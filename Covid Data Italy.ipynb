{
 "cells": [
  {
   "cell_type": "code",
   "execution_count": 1,
   "metadata": {},
   "outputs": [],
   "source": [
    "import pandas as pd\n",
    "import numpy as np\n",
    "import seaborn as sns\n",
    "import matplotlib.pyplot as plt"
   ]
  },
  {
   "cell_type": "code",
   "execution_count": 5,
   "metadata": {},
   "outputs": [],
   "source": [
    "df = pd.read_csv(\"covid-nationality.csv\")"
   ]
  },
  {
   "cell_type": "code",
   "execution_count": 6,
   "metadata": {},
   "outputs": [
    {
     "data": {
      "text/html": [
       "<div>\n",
       "<style scoped>\n",
       "    .dataframe tbody tr th:only-of-type {\n",
       "        vertical-align: middle;\n",
       "    }\n",
       "\n",
       "    .dataframe tbody tr th {\n",
       "        vertical-align: top;\n",
       "    }\n",
       "\n",
       "    .dataframe thead th {\n",
       "        text-align: right;\n",
       "    }\n",
       "</style>\n",
       "<table border=\"1\" class=\"dataframe\">\n",
       "  <thead>\n",
       "    <tr style=\"text-align: right;\">\n",
       "      <th></th>\n",
       "      <th>Unnamed: 0</th>\n",
       "      <th>date</th>\n",
       "      <th>state</th>\n",
       "      <th>hospitalized_with_symptoms</th>\n",
       "      <th>intensive_care</th>\n",
       "      <th>total_hospitalized</th>\n",
       "      <th>home_quarantine</th>\n",
       "      <th>total_confirmed_cases</th>\n",
       "      <th>variation_total_confirmed</th>\n",
       "      <th>new_confirmed_cases</th>\n",
       "      <th>recovered</th>\n",
       "      <th>deaths</th>\n",
       "      <th>total_cases</th>\n",
       "      <th>swabs_made</th>\n",
       "      <th>casi_testati</th>\n",
       "      <th>note_it</th>\n",
       "      <th>note_en</th>\n",
       "    </tr>\n",
       "  </thead>\n",
       "  <tbody>\n",
       "    <tr>\n",
       "      <th>0</th>\n",
       "      <td>0</td>\n",
       "      <td>2020-02-24T18:00:00</td>\n",
       "      <td>ITA</td>\n",
       "      <td>101</td>\n",
       "      <td>26</td>\n",
       "      <td>127</td>\n",
       "      <td>94</td>\n",
       "      <td>221</td>\n",
       "      <td>0</td>\n",
       "      <td>221</td>\n",
       "      <td>1</td>\n",
       "      <td>7</td>\n",
       "      <td>229</td>\n",
       "      <td>4324</td>\n",
       "      <td>NaN</td>\n",
       "      <td>NaN</td>\n",
       "      <td>NaN</td>\n",
       "    </tr>\n",
       "    <tr>\n",
       "      <th>1</th>\n",
       "      <td>1</td>\n",
       "      <td>2020-02-25T18:00:00</td>\n",
       "      <td>ITA</td>\n",
       "      <td>114</td>\n",
       "      <td>35</td>\n",
       "      <td>150</td>\n",
       "      <td>162</td>\n",
       "      <td>311</td>\n",
       "      <td>90</td>\n",
       "      <td>93</td>\n",
       "      <td>1</td>\n",
       "      <td>10</td>\n",
       "      <td>322</td>\n",
       "      <td>8623</td>\n",
       "      <td>NaN</td>\n",
       "      <td>NaN</td>\n",
       "      <td>NaN</td>\n",
       "    </tr>\n",
       "    <tr>\n",
       "      <th>2</th>\n",
       "      <td>2</td>\n",
       "      <td>2020-02-26T18:00:00</td>\n",
       "      <td>ITA</td>\n",
       "      <td>128</td>\n",
       "      <td>36</td>\n",
       "      <td>164</td>\n",
       "      <td>221</td>\n",
       "      <td>385</td>\n",
       "      <td>74</td>\n",
       "      <td>78</td>\n",
       "      <td>3</td>\n",
       "      <td>12</td>\n",
       "      <td>400</td>\n",
       "      <td>9587</td>\n",
       "      <td>NaN</td>\n",
       "      <td>NaN</td>\n",
       "      <td>NaN</td>\n",
       "    </tr>\n",
       "    <tr>\n",
       "      <th>3</th>\n",
       "      <td>3</td>\n",
       "      <td>2020-02-27T18:00:00</td>\n",
       "      <td>ITA</td>\n",
       "      <td>248</td>\n",
       "      <td>56</td>\n",
       "      <td>304</td>\n",
       "      <td>284</td>\n",
       "      <td>588</td>\n",
       "      <td>203</td>\n",
       "      <td>250</td>\n",
       "      <td>45</td>\n",
       "      <td>17</td>\n",
       "      <td>650</td>\n",
       "      <td>12014</td>\n",
       "      <td>NaN</td>\n",
       "      <td>NaN</td>\n",
       "      <td>NaN</td>\n",
       "    </tr>\n",
       "    <tr>\n",
       "      <th>4</th>\n",
       "      <td>4</td>\n",
       "      <td>2020-02-28T18:00:00</td>\n",
       "      <td>ITA</td>\n",
       "      <td>345</td>\n",
       "      <td>64</td>\n",
       "      <td>409</td>\n",
       "      <td>412</td>\n",
       "      <td>821</td>\n",
       "      <td>233</td>\n",
       "      <td>238</td>\n",
       "      <td>46</td>\n",
       "      <td>21</td>\n",
       "      <td>888</td>\n",
       "      <td>15695</td>\n",
       "      <td>NaN</td>\n",
       "      <td>NaN</td>\n",
       "      <td>NaN</td>\n",
       "    </tr>\n",
       "  </tbody>\n",
       "</table>\n",
       "</div>"
      ],
      "text/plain": [
       "   Unnamed: 0                 date state  hospitalized_with_symptoms  \\\n",
       "0           0  2020-02-24T18:00:00   ITA                         101   \n",
       "1           1  2020-02-25T18:00:00   ITA                         114   \n",
       "2           2  2020-02-26T18:00:00   ITA                         128   \n",
       "3           3  2020-02-27T18:00:00   ITA                         248   \n",
       "4           4  2020-02-28T18:00:00   ITA                         345   \n",
       "\n",
       "   intensive_care  total_hospitalized  home_quarantine  total_confirmed_cases  \\\n",
       "0              26                 127               94                    221   \n",
       "1              35                 150              162                    311   \n",
       "2              36                 164              221                    385   \n",
       "3              56                 304              284                    588   \n",
       "4              64                 409              412                    821   \n",
       "\n",
       "   variation_total_confirmed  new_confirmed_cases  recovered  deaths  \\\n",
       "0                          0                  221          1       7   \n",
       "1                         90                   93          1      10   \n",
       "2                         74                   78          3      12   \n",
       "3                        203                  250         45      17   \n",
       "4                        233                  238         46      21   \n",
       "\n",
       "   total_cases  swabs_made  casi_testati note_it note_en  \n",
       "0          229        4324           NaN     NaN     NaN  \n",
       "1          322        8623           NaN     NaN     NaN  \n",
       "2          400        9587           NaN     NaN     NaN  \n",
       "3          650       12014           NaN     NaN     NaN  \n",
       "4          888       15695           NaN     NaN     NaN  "
      ]
     },
     "execution_count": 6,
     "metadata": {},
     "output_type": "execute_result"
    }
   ],
   "source": [
    "df.head()"
   ]
  },
  {
   "cell_type": "code",
   "execution_count": 17,
   "metadata": {},
   "outputs": [
    {
     "data": {
      "text/plain": [
       "Index(['Unnamed: 0', 'date', 'state', 'hospitalized_with_symptoms',\n",
       "       'intensive_care', 'total_hospitalized', 'home_quarantine',\n",
       "       'total_confirmed_cases', 'variation_total_confirmed',\n",
       "       'new_confirmed_cases', 'recovered', 'deaths', 'total_cases',\n",
       "       'swabs_made', 'casi_testati', 'note_it', 'note_en'],\n",
       "      dtype='object')"
      ]
     },
     "execution_count": 17,
     "metadata": {},
     "output_type": "execute_result"
    }
   ],
   "source": [
    "df.columns"
   ]
  },
  {
   "cell_type": "code",
   "execution_count": 9,
   "metadata": {},
   "outputs": [
    {
     "name": "stdout",
     "output_type": "stream",
     "text": [
      "<class 'pandas.core.frame.DataFrame'>\n",
      "RangeIndex: 70 entries, 0 to 69\n",
      "Data columns (total 17 columns):\n",
      " #   Column                      Non-Null Count  Dtype  \n",
      "---  ------                      --------------  -----  \n",
      " 0   Unnamed: 0                  70 non-null     int64  \n",
      " 1   date                        70 non-null     object \n",
      " 2   state                       70 non-null     object \n",
      " 3   hospitalized_with_symptoms  70 non-null     int64  \n",
      " 4   intensive_care              70 non-null     int64  \n",
      " 5   total_hospitalized          70 non-null     int64  \n",
      " 6   home_quarantine             70 non-null     int64  \n",
      " 7   total_confirmed_cases       70 non-null     int64  \n",
      " 8   variation_total_confirmed   70 non-null     int64  \n",
      " 9   new_confirmed_cases         70 non-null     int64  \n",
      " 10  recovered                   70 non-null     int64  \n",
      " 11  deaths                      70 non-null     int64  \n",
      " 12  total_cases                 70 non-null     int64  \n",
      " 13  swabs_made                  70 non-null     int64  \n",
      " 14  casi_testati                15 non-null     float64\n",
      " 15  note_it                     18 non-null     object \n",
      " 16  note_en                     18 non-null     object \n",
      "dtypes: float64(1), int64(12), object(4)\n",
      "memory usage: 9.4+ KB\n"
     ]
    }
   ],
   "source": [
    "df.info()"
   ]
  },
  {
   "cell_type": "code",
   "execution_count": 18,
   "metadata": {},
   "outputs": [
    {
     "data": {
      "text/html": [
       "<div>\n",
       "<style scoped>\n",
       "    .dataframe tbody tr th:only-of-type {\n",
       "        vertical-align: middle;\n",
       "    }\n",
       "\n",
       "    .dataframe tbody tr th {\n",
       "        vertical-align: top;\n",
       "    }\n",
       "\n",
       "    .dataframe thead th {\n",
       "        text-align: right;\n",
       "    }\n",
       "</style>\n",
       "<table border=\"1\" class=\"dataframe\">\n",
       "  <thead>\n",
       "    <tr style=\"text-align: right;\">\n",
       "      <th></th>\n",
       "      <th>count</th>\n",
       "      <th>mean</th>\n",
       "      <th>std</th>\n",
       "      <th>min</th>\n",
       "      <th>25%</th>\n",
       "      <th>50%</th>\n",
       "      <th>75%</th>\n",
       "      <th>max</th>\n",
       "    </tr>\n",
       "  </thead>\n",
       "  <tbody>\n",
       "    <tr>\n",
       "      <th>Unnamed: 0</th>\n",
       "      <td>70.0</td>\n",
       "      <td>3.450000e+01</td>\n",
       "      <td>20.351085</td>\n",
       "      <td>0.0</td>\n",
       "      <td>17.25</td>\n",
       "      <td>34.5</td>\n",
       "      <td>51.75</td>\n",
       "      <td>69.0</td>\n",
       "    </tr>\n",
       "    <tr>\n",
       "      <th>hospitalized_with_symptoms</th>\n",
       "      <td>70.0</td>\n",
       "      <td>1.737314e+04</td>\n",
       "      <td>10475.956363</td>\n",
       "      <td>101.0</td>\n",
       "      <td>6844.00</td>\n",
       "      <td>20522.5</td>\n",
       "      <td>27262.75</td>\n",
       "      <td>29010.0</td>\n",
       "    </tr>\n",
       "    <tr>\n",
       "      <th>intensive_care</th>\n",
       "      <td>70.0</td>\n",
       "      <td>2.225129e+03</td>\n",
       "      <td>1330.399743</td>\n",
       "      <td>26.0</td>\n",
       "      <td>1196.75</td>\n",
       "      <td>2325.5</td>\n",
       "      <td>3392.25</td>\n",
       "      <td>4068.0</td>\n",
       "    </tr>\n",
       "    <tr>\n",
       "      <th>total_hospitalized</th>\n",
       "      <td>70.0</td>\n",
       "      <td>1.959829e+04</td>\n",
       "      <td>11743.460668</td>\n",
       "      <td>127.0</td>\n",
       "      <td>8040.75</td>\n",
       "      <td>23118.0</td>\n",
       "      <td>30674.50</td>\n",
       "      <td>33004.0</td>\n",
       "    </tr>\n",
       "    <tr>\n",
       "      <th>home_quarantine</th>\n",
       "      <td>70.0</td>\n",
       "      <td>4.138789e+04</td>\n",
       "      <td>32774.474616</td>\n",
       "      <td>94.0</td>\n",
       "      <td>5327.25</td>\n",
       "      <td>43170.0</td>\n",
       "      <td>76257.50</td>\n",
       "      <td>83652.0</td>\n",
       "    </tr>\n",
       "    <tr>\n",
       "      <th>total_confirmed_cases</th>\n",
       "      <td>70.0</td>\n",
       "      <td>6.098616e+04</td>\n",
       "      <td>42510.504183</td>\n",
       "      <td>221.0</td>\n",
       "      <td>13368.00</td>\n",
       "      <td>74704.0</td>\n",
       "      <td>102077.50</td>\n",
       "      <td>108257.0</td>\n",
       "    </tr>\n",
       "    <tr>\n",
       "      <th>variation_total_confirmed</th>\n",
       "      <td>70.0</td>\n",
       "      <td>1.427971e+03</td>\n",
       "      <td>1642.323857</td>\n",
       "      <td>-3106.0</td>\n",
       "      <td>229.25</td>\n",
       "      <td>1192.0</td>\n",
       "      <td>2605.25</td>\n",
       "      <td>4821.0</td>\n",
       "    </tr>\n",
       "    <tr>\n",
       "      <th>new_confirmed_cases</th>\n",
       "      <td>70.0</td>\n",
       "      <td>3.010129e+03</td>\n",
       "      <td>1750.317768</td>\n",
       "      <td>78.0</td>\n",
       "      <td>1815.75</td>\n",
       "      <td>3043.0</td>\n",
       "      <td>4206.25</td>\n",
       "      <td>6557.0</td>\n",
       "    </tr>\n",
       "    <tr>\n",
       "      <th>recovered</th>\n",
       "      <td>70.0</td>\n",
       "      <td>2.362346e+04</td>\n",
       "      <td>25315.758084</td>\n",
       "      <td>1.0</td>\n",
       "      <td>1303.25</td>\n",
       "      <td>13825.0</td>\n",
       "      <td>39646.00</td>\n",
       "      <td>81654.0</td>\n",
       "    </tr>\n",
       "    <tr>\n",
       "      <th>deaths</th>\n",
       "      <td>70.0</td>\n",
       "      <td>1.209519e+04</td>\n",
       "      <td>10460.388291</td>\n",
       "      <td>7.0</td>\n",
       "      <td>1078.50</td>\n",
       "      <td>11185.0</td>\n",
       "      <td>22038.75</td>\n",
       "      <td>28884.0</td>\n",
       "    </tr>\n",
       "    <tr>\n",
       "      <th>total_cases</th>\n",
       "      <td>70.0</td>\n",
       "      <td>9.670480e+04</td>\n",
       "      <td>75590.446898</td>\n",
       "      <td>229.0</td>\n",
       "      <td>15749.75</td>\n",
       "      <td>99714.0</td>\n",
       "      <td>167994.50</td>\n",
       "      <td>210717.0</td>\n",
       "    </tr>\n",
       "    <tr>\n",
       "      <th>swabs_made</th>\n",
       "      <td>70.0</td>\n",
       "      <td>6.873203e+05</td>\n",
       "      <td>668901.224450</td>\n",
       "      <td>4324.0</td>\n",
       "      <td>88880.25</td>\n",
       "      <td>465694.5</td>\n",
       "      <td>1163153.25</td>\n",
       "      <td>2153772.0</td>\n",
       "    </tr>\n",
       "    <tr>\n",
       "      <th>casi_testati</th>\n",
       "      <td>15.0</td>\n",
       "      <td>1.195250e+06</td>\n",
       "      <td>179079.796662</td>\n",
       "      <td>935310.0</td>\n",
       "      <td>1034035.50</td>\n",
       "      <td>1210639.0</td>\n",
       "      <td>1334180.50</td>\n",
       "      <td>1456911.0</td>\n",
       "    </tr>\n",
       "  </tbody>\n",
       "</table>\n",
       "</div>"
      ],
      "text/plain": [
       "                            count          mean            std       min  \\\n",
       "Unnamed: 0                   70.0  3.450000e+01      20.351085       0.0   \n",
       "hospitalized_with_symptoms   70.0  1.737314e+04   10475.956363     101.0   \n",
       "intensive_care               70.0  2.225129e+03    1330.399743      26.0   \n",
       "total_hospitalized           70.0  1.959829e+04   11743.460668     127.0   \n",
       "home_quarantine              70.0  4.138789e+04   32774.474616      94.0   \n",
       "total_confirmed_cases        70.0  6.098616e+04   42510.504183     221.0   \n",
       "variation_total_confirmed    70.0  1.427971e+03    1642.323857   -3106.0   \n",
       "new_confirmed_cases          70.0  3.010129e+03    1750.317768      78.0   \n",
       "recovered                    70.0  2.362346e+04   25315.758084       1.0   \n",
       "deaths                       70.0  1.209519e+04   10460.388291       7.0   \n",
       "total_cases                  70.0  9.670480e+04   75590.446898     229.0   \n",
       "swabs_made                   70.0  6.873203e+05  668901.224450    4324.0   \n",
       "casi_testati                 15.0  1.195250e+06  179079.796662  935310.0   \n",
       "\n",
       "                                   25%        50%         75%        max  \n",
       "Unnamed: 0                       17.25       34.5       51.75       69.0  \n",
       "hospitalized_with_symptoms     6844.00    20522.5    27262.75    29010.0  \n",
       "intensive_care                 1196.75     2325.5     3392.25     4068.0  \n",
       "total_hospitalized             8040.75    23118.0    30674.50    33004.0  \n",
       "home_quarantine                5327.25    43170.0    76257.50    83652.0  \n",
       "total_confirmed_cases         13368.00    74704.0   102077.50   108257.0  \n",
       "variation_total_confirmed       229.25     1192.0     2605.25     4821.0  \n",
       "new_confirmed_cases            1815.75     3043.0     4206.25     6557.0  \n",
       "recovered                      1303.25    13825.0    39646.00    81654.0  \n",
       "deaths                         1078.50    11185.0    22038.75    28884.0  \n",
       "total_cases                   15749.75    99714.0   167994.50   210717.0  \n",
       "swabs_made                    88880.25   465694.5  1163153.25  2153772.0  \n",
       "casi_testati                1034035.50  1210639.0  1334180.50  1456911.0  "
      ]
     },
     "execution_count": 18,
     "metadata": {},
     "output_type": "execute_result"
    }
   ],
   "source": [
    "df.describe().transpose()"
   ]
  },
  {
   "cell_type": "code",
   "execution_count": 19,
   "metadata": {
    "scrolled": true
   },
   "outputs": [
    {
     "data": {
      "text/plain": [
       "Unnamed: 0                     0\n",
       "date                           0\n",
       "state                          0\n",
       "hospitalized_with_symptoms     0\n",
       "intensive_care                 0\n",
       "total_hospitalized             0\n",
       "home_quarantine                0\n",
       "total_confirmed_cases          0\n",
       "variation_total_confirmed      0\n",
       "new_confirmed_cases            0\n",
       "recovered                      0\n",
       "deaths                         0\n",
       "total_cases                    0\n",
       "swabs_made                     0\n",
       "casi_testati                  55\n",
       "note_it                       52\n",
       "note_en                       52\n",
       "dtype: int64"
      ]
     },
     "execution_count": 19,
     "metadata": {},
     "output_type": "execute_result"
    }
   ],
   "source": [
    "df.isnull().sum()"
   ]
  },
  {
   "cell_type": "code",
   "execution_count": 29,
   "metadata": {},
   "outputs": [],
   "source": [
    "#Adding year-month column \n",
    "df['Month'] = pd.to_datetime(df['date']).dt.strftime('%Y-%m')"
   ]
  },
  {
   "cell_type": "code",
   "execution_count": 30,
   "metadata": {},
   "outputs": [
    {
     "data": {
      "text/html": [
       "<div>\n",
       "<style scoped>\n",
       "    .dataframe tbody tr th:only-of-type {\n",
       "        vertical-align: middle;\n",
       "    }\n",
       "\n",
       "    .dataframe tbody tr th {\n",
       "        vertical-align: top;\n",
       "    }\n",
       "\n",
       "    .dataframe thead th {\n",
       "        text-align: right;\n",
       "    }\n",
       "</style>\n",
       "<table border=\"1\" class=\"dataframe\">\n",
       "  <thead>\n",
       "    <tr style=\"text-align: right;\">\n",
       "      <th></th>\n",
       "      <th>Unnamed: 0</th>\n",
       "      <th>date</th>\n",
       "      <th>state</th>\n",
       "      <th>hospitalized_with_symptoms</th>\n",
       "      <th>intensive_care</th>\n",
       "      <th>total_hospitalized</th>\n",
       "      <th>home_quarantine</th>\n",
       "      <th>total_confirmed_cases</th>\n",
       "      <th>variation_total_confirmed</th>\n",
       "      <th>new_confirmed_cases</th>\n",
       "      <th>recovered</th>\n",
       "      <th>deaths</th>\n",
       "      <th>total_cases</th>\n",
       "      <th>swabs_made</th>\n",
       "      <th>casi_testati</th>\n",
       "      <th>note_it</th>\n",
       "      <th>note_en</th>\n",
       "      <th>Month</th>\n",
       "    </tr>\n",
       "  </thead>\n",
       "  <tbody>\n",
       "    <tr>\n",
       "      <th>0</th>\n",
       "      <td>0</td>\n",
       "      <td>2020-02-24T18:00:00</td>\n",
       "      <td>ITA</td>\n",
       "      <td>101</td>\n",
       "      <td>26</td>\n",
       "      <td>127</td>\n",
       "      <td>94</td>\n",
       "      <td>221</td>\n",
       "      <td>0</td>\n",
       "      <td>221</td>\n",
       "      <td>1</td>\n",
       "      <td>7</td>\n",
       "      <td>229</td>\n",
       "      <td>4324</td>\n",
       "      <td>NaN</td>\n",
       "      <td>NaN</td>\n",
       "      <td>NaN</td>\n",
       "      <td>2020-02</td>\n",
       "    </tr>\n",
       "    <tr>\n",
       "      <th>1</th>\n",
       "      <td>1</td>\n",
       "      <td>2020-02-25T18:00:00</td>\n",
       "      <td>ITA</td>\n",
       "      <td>114</td>\n",
       "      <td>35</td>\n",
       "      <td>150</td>\n",
       "      <td>162</td>\n",
       "      <td>311</td>\n",
       "      <td>90</td>\n",
       "      <td>93</td>\n",
       "      <td>1</td>\n",
       "      <td>10</td>\n",
       "      <td>322</td>\n",
       "      <td>8623</td>\n",
       "      <td>NaN</td>\n",
       "      <td>NaN</td>\n",
       "      <td>NaN</td>\n",
       "      <td>2020-02</td>\n",
       "    </tr>\n",
       "    <tr>\n",
       "      <th>2</th>\n",
       "      <td>2</td>\n",
       "      <td>2020-02-26T18:00:00</td>\n",
       "      <td>ITA</td>\n",
       "      <td>128</td>\n",
       "      <td>36</td>\n",
       "      <td>164</td>\n",
       "      <td>221</td>\n",
       "      <td>385</td>\n",
       "      <td>74</td>\n",
       "      <td>78</td>\n",
       "      <td>3</td>\n",
       "      <td>12</td>\n",
       "      <td>400</td>\n",
       "      <td>9587</td>\n",
       "      <td>NaN</td>\n",
       "      <td>NaN</td>\n",
       "      <td>NaN</td>\n",
       "      <td>2020-02</td>\n",
       "    </tr>\n",
       "    <tr>\n",
       "      <th>3</th>\n",
       "      <td>3</td>\n",
       "      <td>2020-02-27T18:00:00</td>\n",
       "      <td>ITA</td>\n",
       "      <td>248</td>\n",
       "      <td>56</td>\n",
       "      <td>304</td>\n",
       "      <td>284</td>\n",
       "      <td>588</td>\n",
       "      <td>203</td>\n",
       "      <td>250</td>\n",
       "      <td>45</td>\n",
       "      <td>17</td>\n",
       "      <td>650</td>\n",
       "      <td>12014</td>\n",
       "      <td>NaN</td>\n",
       "      <td>NaN</td>\n",
       "      <td>NaN</td>\n",
       "      <td>2020-02</td>\n",
       "    </tr>\n",
       "    <tr>\n",
       "      <th>4</th>\n",
       "      <td>4</td>\n",
       "      <td>2020-02-28T18:00:00</td>\n",
       "      <td>ITA</td>\n",
       "      <td>345</td>\n",
       "      <td>64</td>\n",
       "      <td>409</td>\n",
       "      <td>412</td>\n",
       "      <td>821</td>\n",
       "      <td>233</td>\n",
       "      <td>238</td>\n",
       "      <td>46</td>\n",
       "      <td>21</td>\n",
       "      <td>888</td>\n",
       "      <td>15695</td>\n",
       "      <td>NaN</td>\n",
       "      <td>NaN</td>\n",
       "      <td>NaN</td>\n",
       "      <td>2020-02</td>\n",
       "    </tr>\n",
       "  </tbody>\n",
       "</table>\n",
       "</div>"
      ],
      "text/plain": [
       "   Unnamed: 0                 date state  hospitalized_with_symptoms  \\\n",
       "0           0  2020-02-24T18:00:00   ITA                         101   \n",
       "1           1  2020-02-25T18:00:00   ITA                         114   \n",
       "2           2  2020-02-26T18:00:00   ITA                         128   \n",
       "3           3  2020-02-27T18:00:00   ITA                         248   \n",
       "4           4  2020-02-28T18:00:00   ITA                         345   \n",
       "\n",
       "   intensive_care  total_hospitalized  home_quarantine  total_confirmed_cases  \\\n",
       "0              26                 127               94                    221   \n",
       "1              35                 150              162                    311   \n",
       "2              36                 164              221                    385   \n",
       "3              56                 304              284                    588   \n",
       "4              64                 409              412                    821   \n",
       "\n",
       "   variation_total_confirmed  new_confirmed_cases  recovered  deaths  \\\n",
       "0                          0                  221          1       7   \n",
       "1                         90                   93          1      10   \n",
       "2                         74                   78          3      12   \n",
       "3                        203                  250         45      17   \n",
       "4                        233                  238         46      21   \n",
       "\n",
       "   total_cases  swabs_made  casi_testati note_it note_en    Month  \n",
       "0          229        4324           NaN     NaN     NaN  2020-02  \n",
       "1          322        8623           NaN     NaN     NaN  2020-02  \n",
       "2          400        9587           NaN     NaN     NaN  2020-02  \n",
       "3          650       12014           NaN     NaN     NaN  2020-02  \n",
       "4          888       15695           NaN     NaN     NaN  2020-02  "
      ]
     },
     "execution_count": 30,
     "metadata": {},
     "output_type": "execute_result"
    }
   ],
   "source": [
    "df.head()"
   ]
  },
  {
   "cell_type": "code",
   "execution_count": 31,
   "metadata": {},
   "outputs": [
    {
     "data": {
      "text/plain": [
       "<seaborn.axisgrid.FacetGrid at 0x22f1fce5288>"
      ]
     },
     "execution_count": 31,
     "metadata": {},
     "output_type": "execute_result"
    },
    {
     "data": {
      "image/png": "[encoded data removed]",
      "text/plain": [
       "<Figure size 360x360 with 1 Axes>"
      ]
     },
     "metadata": {
      "needs_background": "light"
     },
     "output_type": "display_data"
    }
   ],
   "source": [
    "#Scatterplots using relplot\n",
    "sns.relplot(x='total_cases',y='recovered',data=df)"
   ]
  },
  {
   "cell_type": "code",
   "execution_count": 33,
   "metadata": {},
   "outputs": [
    {
     "data": {
      "text/plain": [
       "<AxesSubplot:xlabel='Month', ylabel='recovered'>"
      ]
     },
     "execution_count": 33,
     "metadata": {},
     "output_type": "execute_result"
    },
    {
     "data": {
      "image/png": "[encoded data removed]",
      "text/plain": [
       "<Figure size 432x288 with 1 Axes>"
      ]
     },
     "metadata": {
      "needs_background": "light"
     },
     "output_type": "display_data"
    }
   ],
   "source": [
    "sns.boxplot(x='Month',y='recovered',data=df)"
   ]
  },
  {
   "cell_type": "code",
   "execution_count": 34,
   "metadata": {},
   "outputs": [
    {
     "data": {
      "text/plain": [
       "<seaborn.axisgrid.FacetGrid at 0x22f22066988>"
      ]
     },
     "execution_count": 34,
     "metadata": {},
     "output_type": "execute_result"
    },
    {
     "data": {
      "image/png": "[encoded data removed]",
      "text/plain": [
       "<Figure size 427.875x360 with 1 Axes>"
      ]
     },
     "metadata": {
      "needs_background": "light"
     },
     "output_type": "display_data"
    }
   ],
   "source": [
    "sns.relplot(x='total_confirmed_cases',y='hospitalized_with_symptoms',hue='recovered',data=df)"
   ]
  },
  {
   "cell_type": "code",
   "execution_count": 38,
   "metadata": {},
   "outputs": [
    {
     "data": {
      "text/plain": [
       "<seaborn.axisgrid.FacetGrid at 0x22f235daa48>"
      ]
     },
     "execution_count": 38,
     "metadata": {},
     "output_type": "execute_result"
    },
    {
     "data": {
      "image/png": "[encoded data removed]",
      "text/plain": [
       "<Figure size 1507.88x360 with 4 Axes>"
      ]
     },
     "metadata": {
      "needs_background": "light"
     },
     "output_type": "display_data"
    }
   ],
   "source": [
    "sns.relplot(x='total_confirmed_cases',y='hospitalized_with_symptoms',hue='recovered',col='Month',data=df)"
   ]
  },
  {
   "cell_type": "markdown",
   "metadata": {},
   "source": [
    "We can see that till March total_confirmed_cases and hospitalized_with_symptoms increased steadily. In April total_confirmed_cases increased and hospitalized_with_symptoms decreased. "
   ]
  },
  {
   "cell_type": "code",
   "execution_count": 39,
   "metadata": {},
   "outputs": [
    {
     "data": {
      "text/plain": [
       "<seaborn.axisgrid.FacetGrid at 0x22f237bd848>"
      ]
     },
     "execution_count": 39,
     "metadata": {},
     "output_type": "execute_result"
    },
    {
     "data": {
      "image/png": "[encoded data removed]",
      "text/plain": [
       "<Figure size 360x360 with 1 Axes>"
      ]
     },
     "metadata": {
      "needs_background": "light"
     },
     "output_type": "display_data"
    }
   ],
   "source": [
    "sns.relplot(x='total_cases',y='home_quarantine',kind='line',data=df)"
   ]
  },
  {
   "cell_type": "code",
   "execution_count": 46,
   "metadata": {},
   "outputs": [
    {
     "data": {
      "text/plain": [
       "<AxesSubplot:xlabel='date', ylabel='total_cases'>"
      ]
     },
     "execution_count": 46,
     "metadata": {},
     "output_type": "execute_result"
    },
    {
     "data": {
      "image/png": "[encoded data removed]",
      "text/plain": [
       "<Figure size 432x288 with 1 Axes>"
      ]
     },
     "metadata": {
      "needs_background": "light"
     },
     "output_type": "display_data"
    }
   ],
   "source": [
    "sns.lineplot(x='date',y='total_cases',data=df)"
   ]
  },
  {
   "cell_type": "markdown",
   "metadata": {},
   "source": [
    "This curve need to be flattened"
   ]
  },
  {
   "cell_type": "code",
   "execution_count": null,
   "metadata": {},
   "outputs": [],
   "source": []
  }
 ],
 "metadata": {
  "kernelspec": {
   "display_name": "Python 3 (ipykernel)",
   "language": "python",
   "name": "python3"
  },
  "language_info": {
   "codemirror_mode": {
    "name": "ipython",
    "version": 3
   },
   "file_extension": ".py",
   "mimetype": "text/x-python",
   "name": "python",
   "nbconvert_exporter": "python",
   "pygments_lexer": "ipython3",
   "version": "3.7.11"
  }
 },
 "nbformat": 4,
 "nbformat_minor": 4
}
